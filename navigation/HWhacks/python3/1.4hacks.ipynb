{
 "cells": [
  {
   "cell_type": "markdown",
   "metadata": {},
   "source": [
    "---\n",
    "layout: page\n",
    "title: 3.1 and 3.4 Hacks\n",
    "permalink: /1.4hacks/\n",
    "---"
   ]
  },
  {
   "cell_type": "code",
   "execution_count": 2,
   "metadata": {},
   "outputs": [
    {
     "name": "stdout",
     "output_type": "stream",
     "text": [
      "Wsg Gang\n"
     ]
    }
   ],
   "source": [
    "# 3.1: Make a variable and then call it in a simple function\n",
    "greeting = \"Wsg Gang\"\n",
    "\n",
    "def display_greeting():\n",
    "    print(greeting)\n",
    "\n",
    "display_greeting()"
   ]
  },
  {
   "cell_type": "code",
   "execution_count": 4,
   "metadata": {},
   "outputs": [
    {
     "name": "stdout",
     "output_type": "stream",
     "text": [
      "42\n"
     ]
    }
   ],
   "source": [
    "# 3.1: Update an object declared using const correctly\n",
    "\n",
    "class ConstantObject:\n",
    "    def __init__(self, value):\n",
    "        self._value = value \n",
    "\n",
    "    @property\n",
    "    def value(self):\n",
    "        return self._value\n",
    "\n",
    "const_obj = ConstantObject(42)\n",
    "\n",
    "print(const_obj.value)\n",
    "\n",
    "try:\n",
    "    const_obj._value = 100  \n",
    "except AttributeError as e:\n",
    "    print(\"Cannot update value:\", e)\n"
   ]
  },
  {
   "cell_type": "code",
   "execution_count": 8,
   "metadata": {},
   "outputs": [
    {
     "name": "stdout",
     "output_type": "stream",
     "text": [
      "Value: 5, Type: <class 'int'>\n",
      "Value: Wsg, Type: <class 'str'>\n",
      "Value: True, Type: <class 'bool'>\n"
     ]
    }
   ],
   "source": [
    "# 3.1: create your own array using two or more diffrent data types\n",
    "\n",
    "mixed_array = [5, \"Wsg\", True]\n",
    "\n",
    "for item in mixed_array:\n",
    "    print(f\"Value: {item}, Type: {type(item)}\")\n"
   ]
  },
  {
   "cell_type": "code",
   "execution_count": 9,
   "metadata": {},
   "outputs": [
    {
     "name": "stdout",
     "output_type": "stream",
     "text": [
      "Name: Alice, Age: 20, Average Grade: 84.33\n",
      "Name: Bob, Age: 22, Average Grade: 91.67\n",
      "Name: Charlie, Age: 19, Average Grade: 75.00\n"
     ]
    }
   ],
   "source": [
    "#3.1 Hack: Create a average grade calculator using integers and addition\n",
    "\n",
    "def calculate_average(scores):\n",
    "    return sum(scores) / len(scores)\n",
    "\n",
    "students = []\n",
    "\n",
    "student1 = {\n",
    "    \"name\": \"Alice\",\n",
    "    \"age\": 16,\n",
    "    \"scores\": [85, 90, 78]\n",
    "}\n",
    "\n",
    "student2 = {\n",
    "    \"name\": \"Bob\",\n",
    "    \"age\": 17,\n",
    "    \"scores\": [92, 88, 95]\n",
    "}\n",
    "\n",
    "student3 = {\n",
    "    \"name\": \"Charlie\",\n",
    "    \"age\": 18,\n",
    "    \"scores\": [70, 75, 80]\n",
    "}\n",
    "\n",
    "students.append(student1)\n",
    "students.append(student2)\n",
    "students.append(student3)\n",
    "\n",
    "for student in students:\n",
    "    avg_grade = calculate_average(student[\"scores\"])\n",
    "    student[\"average_grade\"] = avg_grade  # Add average grade to student info\n",
    "    print(f\"Name: {student['name']}, Age: {student['age']}, Average Grade: {avg_grade:.2f}\")\n"
   ]
  }
 ],
 "metadata": {
  "kernelspec": {
   "display_name": "Python 3",
   "language": "python",
   "name": "python3"
  },
  "language_info": {
   "codemirror_mode": {
    "name": "ipython",
    "version": 3
   },
   "file_extension": ".py",
   "mimetype": "text/x-python",
   "name": "python",
   "nbconvert_exporter": "python",
   "pygments_lexer": "ipython3",
   "version": "3.12.5"
  }
 },
 "nbformat": 4,
 "nbformat_minor": 2
}
