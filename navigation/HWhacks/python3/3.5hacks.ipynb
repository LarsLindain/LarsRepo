{
 "cells": [
  {
   "cell_type": "code",
   "execution_count": 7,
   "metadata": {},
   "outputs": [
    {
     "name": "stdout",
     "output_type": "stream",
     "text": [
      "The total sum from 1 to 6 is: 21\n"
     ]
    }
   ],
   "source": [
    "#3.3: User enters N and asks for a number, take total sum and adds all numbers\n",
    "N = int(input(\"Enter a number N: \"))\n",
    "\n",
    "total_sum = 0\n",
    "\n",
    "for i in range(1, N + 1):\n",
    "    total_sum += i \n",
    "\n",
    "print(\"The total sum from 1 to\", N, \"is:\", total_sum)"
   ]
  },
  {
   "cell_type": "code",
   "execution_count": 3,
   "metadata": {},
   "outputs": [
    {
     "name": "stdout",
     "output_type": "stream",
     "text": [
      "32.0\n"
     ]
    }
   ],
   "source": [
    "#3.3: funtion using basic arithmetic operations \n",
    "\n",
    "def calculate_to_32():\n",
    "    result = (8 * 4) + (16 / 4) - 4\n",
    "    return result\n",
    "\n",
    "print(calculate_to_32())\n"
   ]
  },
  {
   "cell_type": "code",
   "execution_count": null,
   "metadata": {},
   "outputs": [
    {
     "name": "stdout",
     "output_type": "stream",
     "text": [
      "The number is negative.\n"
     ]
    }
   ],
   "source": [
    "#3.5: evaluates if number is less than 0\n",
    "\n",
    "def check_number():\n",
    "    try:\n",
    "        number = float(input(\"Please enter a number: \"))\n",
    "        if number < 0:\n",
    "            print(\"The number is negative.\")\n",
    "        else:\n",
    "            print(\"The number is non-negative.\")\n",
    "    except ValueError:\n",
    "        print(\"Invalid input! Please enter a valid number.\")\n",
    "\n",
    "check_number()"
   ]
  },
  {
   "cell_type": "code",
   "execution_count": 1,
   "metadata": {},
   "outputs": [
    {
     "name": "stdout",
     "output_type": "stream",
     "text": [
      "The student did not pass both subjects.\n"
     ]
    }
   ],
   "source": [
    "#3.5: Check for double score\n",
    "\n",
    "def check_scores(score1, score2):\n",
    "    if score1 >= 70 and score2 >= 70:\n",
    "        print(\"The student passed both subjects.\")\n",
    "    else:\n",
    "        print(\"The student did not pass both subjects.\")\n",
    "\n",
    "\n",
    "score1 = float(input(\"Enter the first score: \"))\n",
    "score2 = float(input(\"Enter the second score: \"))\n",
    "\n",
    "check_scores(score1, score2)"
   ]
  }
 ],
 "metadata": {
  "kernelspec": {
   "display_name": "Python 3",
   "language": "python",
   "name": "python3"
  },
  "language_info": {
   "codemirror_mode": {
    "name": "ipython",
    "version": 3
   },
   "file_extension": ".py",
   "mimetype": "text/x-python",
   "name": "python",
   "nbconvert_exporter": "python",
   "pygments_lexer": "ipython3",
   "version": "3.12.5"
  }
 },
 "nbformat": 4,
 "nbformat_minor": 2
}
