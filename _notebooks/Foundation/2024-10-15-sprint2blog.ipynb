{
 "cells": [
  {
   "cell_type": "markdown",
   "metadata": {},
   "source": [
    "---\n",
    "layout: page\n",
    "title: Spring 5 Blog\n",
    "description: Sprint 5 Experience Blog\n",
    "toc: true\n",
    "permalink: /sprint2blogs/\n",
    "type: hacks\n",
    "---"
   ]
  },
  {
   "cell_type": "markdown",
   "metadata": {},
   "source": [
    "\n",
    "---\n",
    "\n",
    "<h2>Sprint 5 Blog</h2>\n",
    "\n",
    "\n",
    "<div>\n",
    "    <h3>Purpose</h3>\n",
    "    <p>Our group progamed and built a page focues on teaching explaining the main basis on Binary. We have many different features that all work together to create a mulitfuntional page with information, lesssons, games, converts, and quizzes.</p>\n",
    "    <p>My feature focused on teaching the basics of logic gates. My page shows the 6 core logic gates. Each of the lessons teaches the user how the gate works and interacts. Once finished reading the lesson, there is a follow up quiz to show you understand the content. After you finish, you can go back to homepage to save your score and see other user's scores.</p>\n",
    "</div>\n",
    "\n",
    "<div>\n",
    "    <h3>Listing</h3>\n",
    "    <p>I worked with lists to handle collections of data, each element representing a row in a dataset. Lists were used when I needed to store ordered sequences of data, such as user inputs or API responses.</p>\n",
    "</div>\n",
    "\n",
    "<div>\n",
    "    <h3>Code Request</h3>\n",
    "    <p>To handle the HTTP requests as GET, POST, PUT, and DELETE we define API methods in a class, which would be inside the framework Flask. (shown in lgate.py code)</p>\n",
    "    <p> One method that I used for sequencing and selection was the unique ID which would separete different users of the same name or data, so that if one were deleted, it would not delete every user with the same name or username.</p>\n"
   ]
  },
  {
   "cell_type": "markdown",
   "metadata": {},
   "source": [
    "---\n",
    "\n",
    "<h3> Obstacles </h3>\n",
    "\n",
    "<div>\n",
    "    <p> After coding GET, and POST, I had a problem where my VScode was not saving or being sent to the server, meaning if I were to change anything like a heading in the code, the page never updated even after saving and commiting. Hopefully I can fix this because if this problem contiunes I will have much big issues down the road. </p>\n",
    "</div>\n"
   ]
  }
 ],
 "metadata": {
  "language_info": {
   "name": "python"
  }
 },
 "nbformat": 4,
 "nbformat_minor": 2
}
