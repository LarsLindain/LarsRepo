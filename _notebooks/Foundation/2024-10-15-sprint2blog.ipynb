{
 "cells": [
  {
   "cell_type": "markdown",
   "metadata": {},
   "source": [
    "---\n",
    "layout: page\n",
    "title: Spring 2 Blog\n",
    "description: Sprint 2 Experience Blog\n",
    "toc: true\n",
    "permalink: /sprint2blogs/\n",
    "type: hacks\n",
    "---"
   ]
  },
  {
   "cell_type": "markdown",
   "metadata": {},
   "source": [
    "<a href=\"https://nighthawkcoders.github.io/portfolio_2025/csp/big-idea/p4/3-8-1\">\n",
    "    <button type=\"button\" style=\"border-color:SlateBlue;color:SlateBlue;\">3.8 Lesson\n",
    "    </button>\n",
    "    </a>\n",
    "\n",
    "<a href=\"http://larslindain.github.io/LarsRepo/blogs/\">\n",
    "    <button type=\"button\" style=\"border-color:SlateBlue;color:SlateBlue;\"> Hacks listed on Blogs\n",
    "    </button>\n",
    "    </a>\n",
    "\n",
    "---\n",
    "\n",
    "<h2>Contributions</h2>\n",
    "\n",
    "<div>\n",
    "    <p>Overall I feel like I probably could have done more to add to the group. I mainly worked with Arnav on the for loops, speicifcally on 3.8.3, alongside presenting it to the class during the 3.8 lesson presentation.</p>\n",
    "</div>\n",
    "\n",
    "<div>\n",
    "    <p>I think our 3.8 presentation was memorable because we tried to make it as user friendly as possible, trying to keep our hacks from becoming too convoluted which might lead to others straying away from learning the code over the prompts. We also had put in memes on certain pages found at the bottom to keep the page fresh.</p>\n",
    "</div>\n"
   ]
  },
  {
   "cell_type": "markdown",
   "metadata": {},
   "source": [
    "\n",
    "---\n",
    "\n",
    "<h2>Summaries</h2>\n",
    "\n",
    "\n",
    "\n",
    "* 3.1:\n",
    "Discusses variables, naming conventions, and data types in Python and JavaScript\n",
    "\n",
    "* 3.2:\n",
    "Explores each data type in both languages in more detail\n",
    "\n",
    "* 3.3:\n",
    "Covers mathematical expressions and the concept of sequencing in programming\n",
    "\n",
    "* 3.4:\n",
    "Introduces string functions, including how to find and replace items within strings\n",
    "\n",
    "* 3.5:\n",
    "Looks at booleans, relational operators, and logical operators\n",
    "\n",
    "* 3.6:\n",
    "Explains how to use conditionals like if and else statements\n",
    "\n",
    "* 3.7:\n",
    "Describes nested conditionals, where multiple conditions can lead to different results based on which condition fails\n",
    "\n",
    "* 3.10:\n",
    "Discusses list methods, similar to string methods, focusing on how to index and find values in a list."
   ]
  },
  {
   "cell_type": "markdown",
   "metadata": {},
   "source": [
    "---\n",
    "\n",
    "<h2> Memorable Lesson </h2>\n",
    "\n",
    "<div>\n",
    "    <p> While it was a long lesson, I found lesson 3.2 memorable. The reasons being that 1.) they were the more recent, as well as 2.) they broke down their lesson into many small hacks, making it much easier to follow through each hack, unlike sometimes during other lessons I may have gotten myself lost because I lost track of what was happing inside the code. </p>\n",
    "</div>\n"
   ]
  }
 ],
 "metadata": {
  "language_info": {
   "name": "python"
  }
 },
 "nbformat": 4,
 "nbformat_minor": 2
}
