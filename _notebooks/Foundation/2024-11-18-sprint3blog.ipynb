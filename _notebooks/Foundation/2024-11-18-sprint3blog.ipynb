{
 "cells": [
  {
   "cell_type": "markdown",
   "metadata": {},
   "source": [
    "---\n",
    "layout: page\n",
    "title: Spring 3 Blog\n",
    "description: Sprint 3 Experience Blog\n",
    "toc: true\n",
    "permalink: /sprint3blogs/\n",
    "type: hacks\n",
    "---"
   ]
  },
  {
   "cell_type": "markdown",
   "metadata": {},
   "source": [
    "<h3>Sprint 3 Summary</h3>\n",
    "\n",
    "<p> Over the last 3-4 weeks of Trimester 1, CSP was tasked to create a social media platform built with a frontend and backend with our groups. My period had the theme of \"Vote for the GOAT\" with all our group platforms based around a voting based page. My table group of myself, Weston, Shaurya, and Arnav, based our page around car debates.</p>"
   ]
  },
  {
   "cell_type": "markdown",
   "metadata": {},
   "source": [
    "<h3>Personal Achievements/ Progress</h3>\n",
    "\n",
    "<p> During this sprint my main objective was working and polishing the \"Vintage Car Page\", which was 1 of mutiple voting pages my group worked on. This sprint I worked much closer, and with more hands on work with my other group members to make sure we have a uniform look across all pages. We also worked together by testing and expermenting with many different ideas and visions for the website. Such as how we wanted our formatting between a gallery or photo list, or what background theme and color fit the best.</p>\n",
    "\n",
    "\n",
    "<p> Over this sprint I learned a lot more quility of life content. After this sprint I feel much more confident navigating through not just VSCode, but also through a deeper knowledge of terminal commands. I also learned to collaborated much more and how to effiecently work with those around me for future sprints</p>\n",
    "\n",
    "<h1>MCQ Analysis</h1>\n",
    "\n",
    "<p>The 2018 Ap MC I got a 32/66. This score is definently lower than I'd hoped, a lot of the probamatic problems were the questions based on fixing syntax or the missing code problems. \n",
    "\n",
    "<p> 1.4: Identifing and Correcting Errors, 3.3: Mathematical Expressions, 3.9: Developing Algorithms </p>\n",
    "\n",
    "<p> These are some of the problematic topics I had. Over the quiz I learned a lot more into working and extracting data. Some topics like this included Data Compression and Extracting Information from data.</p>\n",
    "\n",
    "\n"
   ]
  },
  {
   "cell_type": "markdown",
   "metadata": {},
   "source": [
    "<h2>Test Corrections</h2>\n",
    "\n",
    "<p>Q5 A programmer is creating an algorithm to set the value of One word, ticket Price based on the information in the table. The programmer uses the integer  variable age for the age of the moviegoer. The Boolean variable One word, is 3 D is true when the movie is 3-D and false otherwise. Which of the following code segments correctly sets the value of One word, ticket Price ?Picked: B, This option is incorrect. This code segment will set One word, ticket Price to 17 for all purchasers between the ages of 12 and 60, regardless of whether or not the movie is 3-D.</p>\n",
    "\n",
    "<p>Q14 Which of the following best compares the values displayed by programs A and B? Picked: B, Correct C, the code displays the correct number of values, but the values differ.</p>\n",
    "\n",
    "<p>Q16 A user reads reviews of a popular artist’s new album and then downloads the album from the Web site of a licensed online music seller. Which of the following is LEAST likely to be a consequence of this action? Picked: B, Correct D, Geolocation data can be accessed by the Web site, which can use this information to provide album reviews from nearby users.</p>\n",
    "\n",
    "<p>Q20 A programmer would like to find the greatest of three integer values a, b, and c. Which of the following expressions will produce the desired result in every case? Picked: C, Correct A, This expression produces the maximum of a and c subtracted from the sum of the maximum of a and b and the maximum of b and c. </p>\n",
    "\n",
    "<p>Q21 Which of the following code segments will move the robot to the gray square? Picked: A, Correct B,This code segment moves the robot forward two squares, rotates it right one time so that the robot faces the bottom of the grid, and then moves the robot forward three squares.</p>\n",
    "\n",
    "<p>Q22 Which of the following can be used to replace missing code so that the procedure works as intended? Picked: C, Correct B,This Boolean expression will never evaluate to true because total (the number of temperatures in the list) will never be less than 50% of counter (the number of temperatures greater than or equal to 90).</p>\n",
    "\n",
    "<p>Q25 For which of the following strings is it NOT possible to use byte pair encoding to shorten the string’s length? Picked A, Correct B, This string can be shortened using byte pair encoding. For example, Open quotation, BANANA, close quotation can be shortened to Open quotation, B, asterisk, asterisk, A, close quotation by replacing each instance of Open quotation, AN, close quotation with Open quotation, asterisk, close quotation.</p>\n",
    "\n",
    "<p>Q26 Which of the following replacements for missing code can be used to move the robot to the gray square? Picked: B, Correct A, This code segment does not move the robot at all. The robot cannot move right from its initial position, so the body of the IF statement is never executed.</p>\n",
    "\n",
    "<p>Q27 While debugging the code, the student realizes that the loop never terminates. The student plans to insert the instruction Win, left arrow, true somewhere in the code. Where could Win, left arrow, true be inserted so that the code segment works as intended? Picked A, Correct B, Inserting Win, left arrow, true between line 6 and line 7 will cause the loop to terminate regardless of whether the guess is correct.</p>\n",
    "\n",
    "<p>Q28 A text-editing application uses binary sequences to represent each of 200 different characters. What is the minimum number of bits needed to assign a unique bit sequence to each of the possible characters? Picked: A, Correct D, Using 4 bits will only allow for up to 16 characters ,2^4 power equals 16.</p>\n",
    "\n",
    "<p>Q37 Which of the following best describes the two code segments? Picked: B, Correct C, Code segment I also displays the correct average. </p>\n",
    "\n",
    "<p>Q38 Which of the following code segments will set cost to 0 for every 10th purchase a customer makes after enrolling in the frequent customer program? Picked: A, Correct D, The expression count divided by 10 equals 0 does not evaluate to true when count is a multiple of 1 0, so this code segment does not set cost to 0 appropriately.</p>\n",
    "\n",
    "<p>Q40 The teacher has data representing the scores of thousands of students. For each student, the data contain the student name, the midterm exam score, the final exam score, and the result of the total points calculation. Which of the following could be determined from the data? Picked: B, Correct D, The proportion of students who improved their total points as a result of the score replacement policy can also be determined by comparing the midterm and final scores for each student with the result of the total points calculation.</p>\n",
    "\n",
    "<p>Q41 Which of the following could be used in the procedure to calculate a student’s total points earned in the course and store the result in the variable One word, adjusted Total? Picked: A, Correct B. This expression assigns only one score to One word, adjusted Total.</p>\n",
    "\n",
    "<p>Q43 Based on the values in the table, which of the following best characterizes the algorithm for very large values of n? Picked: D, Correct A, There is no indication that the algorithm is finding approximate solutions.</p>\n",
    "\n",
    "<p>Q45 A NAND gate is a type of logic gate that produces an output of false only when both of its two inputs are true. Otherwise, the gate produces an output of true. Which of the following Boolean expressions correctly models a NAND gate with inputs P and Q ? Picked: A, Correct C, The expression Open parenthesis, NOT P, close parenthesis, and, open parenthesis, NOT Q, close parenthesis  evaluates to false when P and Q differ in value. A NANDgate should only evaluate to false when both inputs are  true.</p>\n",
    "\n",
    "<p>Q46 The problem the student is attempting to solve is considered an undecidable problem. Which of the following is true? Picked: A, Correct B, It is not possible to create an algorithm to solve an undecidable problem for all programs and inputs.</p>\n",
    "\n",
    "<p>Q47 In public key cryptography, the sender uses the recipient’s public key to encrypt a message. Which of the following is needed to decrypt the message? Picked: B, Correct D, The sender’s private key cannot be used to decrypt the message.</p>\n",
    "\n",
    "<p>Q50 The procedure below searches for the value target in list. It returns true if target is found and returns false otherwise. Picked: C, Correct B, The procedure does not implement a binary search and does not need to be in sorted order to implement a linear search.</p>\n",
    "\n",
    "<p>Q54 Which of the following procedures is a generalization of the procedures described above? Picked: C, Correct D, The Polynomial procedure calculates the sum of the Square and Cube procedures, but does not generalize their functionality to calculate any power of n.</p>\n",
    "\n",
    "<p>Q60 Which of the following are ways in which a programmer can use abstraction to manage the complexity of a program? Picked: B,D, Correct A,D, Using shorter variable names would not help a programmer to manage the complexity of a program. In general,meaningful variable names help programmers better understand programs.</p>\n",
    "\n",
    "<p>Q62 A free online encyclopedia contains articles that can be written and edited by any user. Which of the following are advantages the online encyclopedia has over a traditional paper-based encyclopedia? Picked: A,D, Correct C,D, As users from around the world add content to the online encyclopedia, it may become difficult to determine whether any of the new content is copyrighted.</p>\n",
    "\n",
    "<p>Q65 A programmer suspects that an error in the program is caused by this procedure. Under which of the following conditions will the procedure NOT return the correct product? Picked: A,D, Correct B,D, If x and y are both positive, the procedure will correctly calculate the product by adding x to itself y times.</p>\n",
    "\n",
    "<p>Q66 For which of the following values of One word, the List will Smallest, open parenthesis, one word, the List, close parenthesis NOT return the intended value? Picked: A,D, Correct C,D,  For the list [10, 20, 30, 40] there are no values less than the first number in the list, so the procedure returns the correct value 1 0.</p>\n"
   ]
  }
 ],
 "metadata": {
  "language_info": {
   "name": "python"
  }
 },
 "nbformat": 4,
 "nbformat_minor": 2
}
