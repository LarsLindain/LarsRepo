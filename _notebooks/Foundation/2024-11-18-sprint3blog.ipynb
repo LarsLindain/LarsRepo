{
 "cells": [
  {
   "cell_type": "markdown",
   "metadata": {},
   "source": [
    "---\n",
    "layout: page\n",
    "title: Spring 3 Blog\n",
    "description: Sprint 3 Experience Blog\n",
    "toc: true\n",
    "permalink: /sprint3blogs/\n",
    "type: hacks\n",
    "---"
   ]
  }
 ],
 "metadata": {
  "language_info": {
   "name": "python"
  }
 },
 "nbformat": 4,
 "nbformat_minor": 2
}
