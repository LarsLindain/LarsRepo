{
 "cells": [
  {
   "cell_type": "markdown",
   "metadata": {},
   "source": [
    "---\n",
    "layout: page\n",
    "title: Spring 3 Blog\n",
    "description: Sprint 3 Experience Blog\n",
    "toc: true\n",
    "permalink: /sprint3blogs/\n",
    "type: hacks\n",
    "---"
   ]
  },
  {
   "cell_type": "markdown",
   "metadata": {},
   "source": [
    "<h3>Sprint 3 Summary</h3>\n",
    "\n",
    "<p> Over the last 3-4 weeks of Trimester 1, CSP was tasked to create a social media platform built with a frontend and backend with our groups. My period had the theme of \"Vote for the GOAT\" with all our group platforms based around a voting based page. My table group of myself, Weston, Sharuya, and Arnav, based our page around car debates.</p>"
   ]
  },
  {
   "cell_type": "markdown",
   "metadata": {},
   "source": [
    "<h3>Personal Achievements/ Progress</h3>\n",
    "\n",
    "<p> During this sprint my main objective was working and polishing the \"Vintage Car Page\", which was 1 of mutiple voting pages my group worked on. This sprint I worked much closer, and with more hands on work with my other group members to make sure we have a uniform look across all pages. We also worked together by testing and expermenting with many different ideas and visions for the website. Such as how we wanted our formatting between a gallery or photo list, or what background theme and color fit the best.</p>\n",
    "\n",
    "---\n",
    "\n",
    "<p> Over this sprint I learned a lot more quility of life content. After this sprint I feel much more confident navigating through not just VSCode, but also through a deeper knowledge of terminal commands. I also learned to collaborated much more and how to effiecently work with those around me for future sprints</p>"
   ]
  }
 ],
 "metadata": {
  "language_info": {
   "name": "python"
  }
 },
 "nbformat": 4,
 "nbformat_minor": 2
}
