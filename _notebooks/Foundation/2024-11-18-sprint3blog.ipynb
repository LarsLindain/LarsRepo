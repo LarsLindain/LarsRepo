{
 "cells": [
  {
   "cell_type": "markdown",
   "metadata": {},
   "source": [
    "---\n",
    "layout: page\n",
    "title: Spring 3 Blog\n",
    "description: Sprint 3 Experience Blog\n",
    "toc: true\n",
    "permalink: /sprint3blogs/\n",
    "type: hacks\n",
    "---"
   ]
  },
  {
   "cell_type": "markdown",
   "metadata": {},
   "source": [
    "<h3>Sprint 3 Summary</h3>\n",
    "\n",
    "<p> Over the last 3-4 weeks of Trimester 1, CSP was tasked to create a social media platform built with a frontend and backend with our groups. My period had the theme of \"Vote for the GOAT\" with all our group platforms based around a voting based page. My table group of myself, Weston, Shaurya, and Arnav, based our page around car debates.</p>"
   ]
  },
  {
   "cell_type": "markdown",
   "metadata": {},
   "source": [
    "<h3>Personal Achievements/ Progress</h3>\n",
    "\n",
    "<p> During this sprint my main objective was working and polishing the \"Vintage Car Page\", which was 1 of mutiple voting pages my group worked on. This sprint I worked much closer, and with more hands on work with my other group members to make sure we have a uniform look across all pages. We also worked together by testing and expermenting with many different ideas and visions for the website. Such as how we wanted our formatting between a gallery or photo list, or what background theme and color fit the best.</p>\n",
    "\n",
    "\n",
    "<p> Over this sprint I learned a lot more quility of life content. After this sprint I feel much more confident navigating through not just VSCode, but also through a deeper knowledge of terminal commands. I also learned to collaborated much more and how to effiecently work with those around me for future sprints</p>\n",
    "\n",
    "<h3>MCQ Analysis</h3>\n",
    "\n",
    "<p>The 2018 Ap MC I got a 32/66. This score is definently lower than I'd hoped, a lot of the probamatic problems were the questions based on fixing syntax or the missing code problems.\n",
    "\n",
    "<p> 1.4: Identifing and Correcting Errors, 3.3: Mathematical Expressions, 3.9: Developing Algorithms </p>\n",
    "\n",
    "\n"
   ]
  },
  {
   "cell_type": "markdown",
   "metadata": {},
   "source": [
    "<h2>Test Corrections</h2>\n",
    "\n",
    "<p>Q5 A programmer is creating an algorithm to set the value of One word, ticket Price based on the information in the table. The programmer uses the integer  variable age for the age of the moviegoer. The Boolean variable One word, is 3 D is true when the movie is 3-D and false otherwise. Which of the following code segments correctly sets the value of One word, ticket Price ?Picked: B, This option is incorrect. This code segment will set One word, ticket Price to 17 for all purchasers between the ages of 12 and 60, regardless of whether or not the movie is 3-D.</p>\n",
    "\n",
    "<p>Q14 Which of the following best compares the values displayed by programs A and B? Picked: B, Correct C, the code displays the correct number of values, but the values differ.</p>\n",
    "\n",
    "<p>Q16 A user reads reviews of a popular artist’s new album and then downloads the album from the Web site of a licensed online music seller. Which of the following is LEAST likely to be a consequence of this action? Picked: B, Correct D, Geolocation data can be accessed by the Web site, which can use this information to provide album reviews from nearby users.</p>\n",
    "\n",
    "<p>Q20 A programmer would like to find the greatest of three integer values a, b, and c. Which of the following expressions will produce the desired result in every case? Picked: C, Correct A, This expression produces the maximum of a and c subtracted from the sum of the maximum of a and b and the maximum of b and c. </p>\n",
    "\n",
    "<p>Q21 Which of the following code segments will move the robot to the gray square? Picked: A, Correct B,This code segment moves the robot forward two squares, rotates it right one time so that the robot faces the bottom of the grid, and then moves the robot forward three squares.</p>\n",
    "\n",
    "<p>Q22 Which of the following can be used to replace missing code so that the procedure works as intended? Picked: C, Correct B,This Boolean expression will never evaluate to true because total (the number of temperatures in the list) will never be less than 50% of counter (the number of temperatures greater than or equal to 90).</p>\n",
    "\n",
    "<p>Q25 For which of the following strings is it NOT possible to use byte pair encoding to shorten the string’s length? Picked A, Correct B, This string can be shortened using byte pair encoding. For example, Open quotation, BANANA, close quotation can be shortened to Open quotation, B, asterisk, asterisk, A, close quotation by replacing each instance of Open quotation, AN, close quotation with Open quotation, asterisk, close quotation.</p>\n",
    "\n",
    "<p>Q26 Which of the following replacements for missing code can be used to move the robot to the gray square? Picked: B, Correct A, This code segment does not move the robot at all. The robot cannot move right from its initial position, so the body of the IF statement is never executed.</p>\n",
    "\n",
    "<p>Q27 While debugging the code, the student realizes that the loop never terminates. The student plans to insert the instruction Win, left arrow, true somewhere in the code. Where could Win, left arrow, true be inserted so that the code segment works as intended? Picked A, Correct B, Inserting Win, left arrow, true between line 6 and line 7 will cause the loop to terminate regardless of whether the guess is correct.</p>\n"
   ]
  }
 ],
 "metadata": {
  "language_info": {
   "name": "python"
  }
 },
 "nbformat": 4,
 "nbformat_minor": 2
}
