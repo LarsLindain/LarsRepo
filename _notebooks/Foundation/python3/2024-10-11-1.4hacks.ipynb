{
 "cells": [
  {
   "cell_type": "markdown",
   "metadata": {},
   "source": [
    "---\n",
    "layout: post\n",
    "title: 3.1 and 3.4 Hacks\n",
    "description: 3.1 and 3.4 hacks/homework\n",
    "toc: true\n",
    "type: hacks\n",
    "---"
   ]
  },
  {
   "cell_type": "code",
   "execution_count": 8,
   "metadata": {},
   "outputs": [
    {
     "name": "stdout",
     "output_type": "stream",
     "text": [
      "Lars\n",
      "Weston\n",
      "Arnav\n",
      "Shaurya\n",
      "Ehren\n"
     ]
    }
   ],
   "source": [
    "# 3.1: Make your own variables for members of your team, following naming convention for Python\n",
    "# Team member variables\n",
    "team_member1 = \"Lars\"\n",
    "\n",
    "team_member2 = \"Weston\"\n",
    "\n",
    "team_member3 = \"Arnav\"\n",
    "\n",
    "team_member4 = \"Shaurya\"\n",
    "\n",
    "team_member5 = \"Ehren\"\n",
    "\n",
    "# Print team member information\n",
    "print(team_member1)\n",
    "print(team_member2)\n",
    "print(team_member3)\n",
    "print(team_member4)\n",
    "print(team_member5)"
   ]
  },
  {
   "cell_type": "code",
   "execution_count": 27,
   "metadata": {},
   "outputs": [
    {
     "name": "stdout",
     "output_type": "stream",
     "text": [
      "Apple\n",
      "Red\n",
      "Sphere\n",
      "Watermelon\n",
      "Green\n",
      "Oval\n"
     ]
    }
   ],
   "source": [
    "#Fruit Dictonary\n",
    "\n",
    "apple = {\n",
    "    \"name\": \"Apple\",\n",
    "    \"color\": \"Red\",\n",
    "    \"shape\": \"Sphere\",\n",
    "}\n",
    "\n",
    "watermelon = {\n",
    "    \"name\": \"Watermelon\",\n",
    "    \"color\": \"Green\",\n",
    "    \"shape\": \"Oval\"\n",
    "}\n",
    "\n",
    "print(apple[\"name\"])\n",
    "print(apple[\"color\"])\n",
    "print(apple[\"shape\"])\n",
    "\n",
    "\n",
    "print(watermelon[\"name\"])\n",
    "print(watermelon[\"color\"])\n",
    "print(watermelon[\"shape\"])"
   ]
  },
  {
   "cell_type": "code",
   "execution_count": null,
   "metadata": {},
   "outputs": [],
   "source": [
    "#Define variables automatically using let and const, write console.log() statements and demonstrate knowledge of accessing the console correctly, and short function that correctly calls each variable and string them together to make a sentence."
   ]
  },
  {
   "cell_type": "code",
   "execution_count": 29,
   "metadata": {},
   "outputs": [
    {
     "name": "stdout",
     "output_type": "stream",
     "text": [
      "Value: 5, Type: <class 'int'>\n",
      "Value: Wsg, Type: <class 'str'>\n",
      "Value: True, Type: <class 'bool'>\n"
     ]
    }
   ],
   "source": [
    "# 3.1: create your own array using two or more diffrent data types\n",
    "\n",
    "mixed_array = [5, \"Wsg\", True]\n",
    "\n",
    "for item in mixed_array:\n",
    "    print(f\"Value: {item}, Type: {type(item)}\")\n"
   ]
  },
  {
   "cell_type": "code",
   "execution_count": 3,
   "metadata": {},
   "outputs": [
    {
     "name": "stdout",
     "output_type": "stream",
     "text": [
      "Name: Lars, Age: 16, Average Grade: 77.67\n",
      "Name: Weston, Age: 17, Average Grade: 91.67\n",
      "Name: Arnav, Age: 18, Average Grade: 85.00\n"
     ]
    }
   ],
   "source": [
    "#3.1 Hack: Create a average grade calculator using integers and addition\n",
    "\n",
    "def calculate_average(scores):\n",
    "    return sum(scores) / len(scores)\n",
    "\n",
    "students = []\n",
    "\n",
    "student1 = {\n",
    "    \"name\": \"Lars\",\n",
    "    \"age\": 16,\n",
    "    \"scores\": [75, 80, 78]\n",
    "}\n",
    "\n",
    "student2 = {\n",
    "    \"name\": \"Weston\",\n",
    "    \"age\": 17,\n",
    "    \"scores\": [92, 88, 95]\n",
    "}\n",
    "\n",
    "student3 = {\n",
    "    \"name\": \"Arnav\",\n",
    "    \"age\": 18,\n",
    "    \"scores\": [83, 82, 90]\n",
    "}\n",
    "\n",
    "students.append(student1)\n",
    "students.append(student2)\n",
    "students.append(student3)\n",
    "\n",
    "for student in students:\n",
    "    avg_grade = calculate_average(student[\"scores\"])\n",
    "    student[\"average_grade\"] = avg_grade  # Add average grade to student info\n",
    "    print(f\"Name: {student['name']}, Age: {student['age']}, Average Grade: {avg_grade:.2f}\")\n"
   ]
  },
  {
   "cell_type": "code",
   "execution_count": 61,
   "metadata": {},
   "outputs": [
    {
     "name": "stdout",
     "output_type": "stream",
     "text": [
      "Now he's thinkin' 'bout me every night, oh Is it that sweet? I guess so Say you can't sleep, baby, I know That's that me espresso Move it up, down, left, right, oh Switch it up like Nintendo Say you can't sleep, baby, I know That's that me espresso\n",
      "2\n",
      "50\n",
      "Now he's thinkin' 'bout me every night, oh Is it that sweet? I guess so Say you can't sleep, baby, I know That's that me cereal Move it up, down, left, right, oh Switch it up like Nintendo Say you can't sleep, baby, I know That's that me cereal\n"
     ]
    }
   ],
   "source": [
    "#3.4 Lyric Strings\n",
    "\n",
    "espresso_lyrics = \"Now he's thinkin' 'bout me every night, oh Is it that sweet? I guess so Say you can't sleep, baby, I know That's that me espresso Move it up, down, left, right, oh Switch it up like Nintendo Say you can't sleep, baby, I know That's that me espresso\"\n",
    "\n",
    "print(espresso_lyrics)\n",
    "\n",
    "print(espresso_lyrics.count(\"espresso\"))\n",
    "\n",
    "print(espresso_lyrics.find(\"hat sweet\"))\n",
    "\n",
    "new_espresso_lyrics = espresso_lyrics.replace('espresso', 'cereal')\n",
    "print(new_espresso_lyrics)"
   ]
  },
  {
   "cell_type": "code",
   "execution_count": 74,
   "metadata": {
    "vscode": {
     "languageId": "javascript"
    }
   },
   "outputs": [
    {
     "ename": "SyntaxError",
     "evalue": "invalid syntax (2700853162.py, line 1)",
     "output_type": "error",
     "traceback": [
      "\u001b[0;36m  Cell \u001b[0;32mIn[74], line 1\u001b[0;36m\u001b[0m\n\u001b[0;31m    const test = \"Hello, world!\";\u001b[0m\n\u001b[0m          ^\u001b[0m\n\u001b[0;31mSyntaxError\u001b[0m\u001b[0;31m:\u001b[0m invalid syntax\n"
     ]
    }
   ],
   "source": [
    "const test = \"Hello, world!\";\n",
    "console.log(test);\n"
   ]
  }
 ],
 "metadata": {
  "kernelspec": {
   "display_name": "Python 3",
   "language": "python",
   "name": "python3"
  },
  "language_info": {
   "codemirror_mode": {
    "name": "ipython",
    "version": 3
   },
   "file_extension": ".py",
   "mimetype": "text/x-python",
   "name": "python",
   "nbconvert_exporter": "python",
   "pygments_lexer": "ipython3",
   "version": "3.12.5"
  }
 },
 "nbformat": 4,
 "nbformat_minor": 2
}
