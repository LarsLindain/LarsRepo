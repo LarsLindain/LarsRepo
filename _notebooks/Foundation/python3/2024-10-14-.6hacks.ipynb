{
 "cells": [
  {
   "cell_type": "markdown",
   "metadata": {},
   "source": [
    "---\n",
    "layout: post\n",
    "title: 3.6 Hacks\n",
    "description: 3.6 hacks/homework\n",
    "toc: true\n",
    "type: hacks\n",
    "---"
   ]
  },
  {
   "cell_type": "code",
   "execution_count": 5,
   "metadata": {},
   "outputs": [
    {
     "name": "stdout",
     "output_type": "stream",
     "text": [
      "It's pretty warm\n"
     ]
    }
   ],
   "source": [
    "# 3.6 Temperature condions\n",
    "temperature = 65 \n",
    "\n",
    "if temperature >= 80:\n",
    "    print(\"It's a hot day\")\n",
    "elif temperature >= 60:\n",
    "    print(\"It's pretty warm\")\n",
    "else:\n",
    "    print(\"It's a cold day\")"
   ]
  },
  {
   "cell_type": "markdown",
   "metadata": {},
   "source": [
    "\n",
    "To implement the \"warm\" temperature feature, you can use a elif to create an extra value which will separate from the hot temperatures, but still not be listed as a code day."
   ]
  },
  {
   "cell_type": "code",
   "execution_count": 10,
   "metadata": {},
   "outputs": [
    {
     "name": "stdout",
     "output_type": "stream",
     "text": [
      "Welcome back!\n",
      "Login successful :)\n"
     ]
    }
   ],
   "source": [
    "#3.6 New message for successful Login\n",
    "\n",
    "\n",
    "is_logged_in = True \n",
    "\n",
    "if is_logged_in:\n",
    "    print(\"Welcome back!\")\n",
    "    print(\"Login successful :)\")\n",
    "\n",
    "else:\n",
    "    print(\"Please log in.\")\n",
    "    print(\"you forgot your shi\")"
   ]
  },
  {
   "cell_type": "code",
   "execution_count": 27,
   "metadata": {},
   "outputs": [
    {
     "name": "stdout",
     "output_type": "stream",
     "text": [
      "Person 1's age: 26\n",
      "Person 2's age: 20\n",
      "Person 1 is an adult\n",
      "Person 1 is an adult\n",
      "Person 1 is older than Person 2.\n"
     ]
    }
   ],
   "source": [
    "#3.6 Find out if a minor\n",
    "\n",
    "import random\n",
    "\n",
    "def randomize_ages():\n",
    "    age1 = random.randint(1, 100)\n",
    "    age2 = random.randint(1, 100)\n",
    "    \n",
    "    print(f\"Person 1's age: {age1}\")\n",
    "    print(f\"Person 2's age: {age2}\")\n",
    "\n",
    "    if age1 < 18:\n",
    "        print(\"Bro 1 is too young (Minor)\")\n",
    "    elif age1 >=18:\n",
    "        print(\"Person 1 is an adult\")\n",
    "\n",
    "    if age2 < 18:\n",
    "        print(\"Bro 2 is too young (Minor)\")\n",
    "    elif age2 >=18:\n",
    "        print(\"Person 1 is an adult\")\n",
    "    \n",
    "    if age1 > age2:\n",
    "        print(\"Person 1 is older than Person 2.\")\n",
    "    elif age1 < age2:\n",
    "        print(\"Person 1 is younger than Person 2.\")\n",
    "    else:\n",
    "        print(\"Person 1 is the same age as Person 2.\")\n",
    "\n",
    "randomize_ages()\n"
   ]
  },
  {
   "cell_type": "markdown",
   "metadata": {},
   "source": [
    "To check if either of the people are a minor, you can add another additial condition which checks if the given number is under 18. If so this number will be flagged as a minor."
   ]
  },
  {
   "cell_type": "code",
   "execution_count": 33,
   "metadata": {},
   "outputs": [
    {
     "name": "stdout",
     "output_type": "stream",
     "text": [
      " You failed the test :(\n"
     ]
    }
   ],
   "source": [
    "#3.6 What would you add if they fail\n",
    "\n",
    "score = 59\n",
    "\n",
    "if(score >= 60):\n",
    "    print(\"You passed!\")\n",
    "else:\n",
    "    print(\" You failed the test :(\")"
   ]
  },
  {
   "cell_type": "markdown",
   "metadata": {},
   "source": [
    "After you set an if statement to >=60, you can then finish by connecting a else statement which will take all values that do not reach the 60 points, resulting to a failed score."
   ]
  },
  {
   "cell_type": "code",
   "execution_count": 41,
   "metadata": {},
   "outputs": [
    {
     "name": "stdout",
     "output_type": "stream",
     "text": [
      "3, thats odd big bro.\n"
     ]
    }
   ],
   "source": [
    "#3.6 Even/Odd check\n",
    "\n",
    "\n",
    "number = int(input(\"positive Number\"))\n",
    "\n",
    "def check_even_odd(number):\n",
    "    if not isinstance(number, int):\n",
    "        print(\"Pick a number:\")\n",
    "        return\n",
    "\n",
    "    if number % 2 == 0 and number >= 0:\n",
    "        print(f\"{number}, thats even big bro.\")\n",
    "    elif number % 2 != 0 and number >= 0:\n",
    "        print(f\"{number}, thats odd big bro.\")\n",
    "\n",
    "\n",
    "check_even_odd(number)"
   ]
  },
  {
   "cell_type": "code",
   "execution_count": 44,
   "metadata": {},
   "outputs": [
    {
     "name": "stdout",
     "output_type": "stream",
     "text": [
      "IT HAS 366 DAYS!\n"
     ]
    }
   ],
   "source": [
    "#3.6 Check if is a leap year\n",
    "\n",
    "number = int(input(\"Pick your favorite year\"))\n",
    "\n",
    "def check_leap_year(number):\n",
    "    if number % 4 and number >0:\n",
    "        print(\"IT HAS 366 DAYS!\")\n",
    "    else:\n",
    "        print(\"Only 365 days\")\n",
    "\n",
    "check_leap_year(number)"
   ]
  },
  {
   "cell_type": "code",
   "execution_count": 50,
   "metadata": {},
   "outputs": [
    {
     "name": "stdout",
     "output_type": "stream",
     "text": [
      "Damn its hot outside\n"
     ]
    }
   ],
   "source": [
    "# 3.6 Temperature condions (part 2)\n",
    "\n",
    "\n",
    "temperature = int(input(\"What is the temperature today?\"))\n",
    "\n",
    "def temp_range(temperature):\n",
    "    if temperature >= 85:\n",
    "        print(\"Damn its hot outside\")\n",
    "    elif temperature >= 60:\n",
    "        print(\"It's nice and warm\")\n",
    "    else:\n",
    "        print(\"Its pretty darn cold\")\n",
    "\n",
    "temp_range(temperature)"
   ]
  },
  {
   "cell_type": "code",
   "execution_count": 54,
   "metadata": {},
   "outputs": [
    {
     "name": "stdout",
     "output_type": "stream",
     "text": [
      "Vote for our country!\n"
     ]
    }
   ],
   "source": [
    "#3.6 Check for voting Age\n",
    "\n",
    "age = int(input(\"How old are you\"))\n",
    "\n",
    "\n",
    "def check_voting_eligibility(age):\n",
    "\n",
    "    if age >= 18:\n",
    "        return \"Vote for our country!\"\n",
    "    else:\n",
    "        return \"You are not eligible to vote yet.\"\n",
    "\n",
    "\n",
    "print(check_voting_eligibility(age))  \n"
   ]
  },
  {
   "cell_type": "code",
   "execution_count": 55,
   "metadata": {},
   "outputs": [
    {
     "name": "stdout",
     "output_type": "stream",
     "text": [
      "Grade: A\n"
     ]
    }
   ],
   "source": [
    "#3.6 Grade Calculator\n",
    "\n",
    "score = int(input(\"What was your grade\"))\n",
    "\n",
    "def getGrade(score):\n",
    "    if score >= 90:\n",
    "        return \"Grade: A\"\n",
    "    elif score >= 80:\n",
    "        return \"Grade: B\"\n",
    "    elif score >= 70:\n",
    "        return \"Grade: C\"\n",
    "    else:\n",
    "        return \"Grade: F\"\n",
    "\n",
    "print(getGrade(score)) \n"
   ]
  },
  {
   "cell_type": "code",
   "execution_count": 72,
   "metadata": {},
   "outputs": [
    {
     "name": "stdout",
     "output_type": "stream",
     "text": [
      "37.77777777777778 °C\n"
     ]
    }
   ],
   "source": [
    "#3.6 Temperature converter\n",
    "\n",
    "\n",
    "input_data = input(\"Enter the temperature value and scale (e.g., '100 C' or '32 F'): \")\n",
    "value, scale = input_data.split() \n",
    "value = int(value)  \n",
    "\n",
    "def convertTemperature(value, scale):\n",
    "    if scale.upper() == \"C\":\n",
    "        fahrenheit = (value * 9/5) + 32\n",
    "        return f\"{fahrenheit} °F\"\n",
    "    elif scale.upper() == \"F\":\n",
    "        celsius = (value - 32) * 5/9\n",
    "        return f\"{celsius} °C\"\n",
    "    else:\n",
    "        return \"Please input the Scale and value\"\n",
    "\n",
    "\n",
    "print(convertTemperature(value, scale))\n"
   ]
  }
 ],
 "metadata": {
  "kernelspec": {
   "display_name": "Python 3",
   "language": "python",
   "name": "python3"
  },
  "language_info": {
   "codemirror_mode": {
    "name": "ipython",
    "version": 3
   },
   "file_extension": ".py",
   "mimetype": "text/x-python",
   "name": "python",
   "nbconvert_exporter": "python",
   "pygments_lexer": "ipython3",
   "version": "3.13.0"
  }
 },
 "nbformat": 4,
 "nbformat_minor": 2
}
