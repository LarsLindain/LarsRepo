{
 "cells": [
  {
   "cell_type": "markdown",
   "metadata": {},
   "source": [
    "---\n",
    "layout: post\n",
    "title: 3.7 Hacks\n",
    "description: 3.7 hacks/homework\n",
    "toc: true\n",
    "type: hacks\n",
    "---"
   ]
  },
  {
   "cell_type": "code",
   "execution_count": 1,
   "metadata": {},
   "outputs": [
    {
     "name": "stdout",
     "output_type": "stream",
     "text": [
      "The living room is not available for the movie night. Find another room!\n"
     ]
    }
   ],
   "source": [
    "#3.6 Boolean Tests\n",
    "\n",
    "living_room_available = False\n",
    "projector_working = False\n",
    "enough_snacks = False\n",
    "\n",
    "if living_room_available:\n",
    "    if projector_working:\n",
    "        if enough_snacks:\n",
    "            print(\"You're ready to host the movie night!\")\n",
    "        else:\n",
    "            print(\"You need to get more snacks. Ideas: Popcorn, Candy, Soda\")\n",
    "    else:\n",
    "        print(\"You need to fix or replace the projector.\")\n",
    "else:\n",
    "    print(\"The living room is not available for the movie night. Find another room!\")"
   ]
  },
  {
   "cell_type": "code",
   "execution_count": 5,
   "metadata": {},
   "outputs": [
    {
     "name": "stdout",
     "output_type": "stream",
     "text": [
      "You need to fill up the tank first.\n"
     ]
    }
   ],
   "source": [
    "#3.7 change gas variable\n",
    "\n",
    "import random\n",
    "\n",
    "enough_gas = random.randint(0, 50)\n",
    "\n",
    "good_weather = random.choice([True, False])\n",
    "\n",
    "car_checked = random.choice([True, False])\n",
    "\n",
    "budget = random.randint(50, 200)\n",
    "required_budget = 100  \n",
    "\n",
    "if enough_gas >=10:\n",
    "    print(\"You have enough gas!\")\n",
    "    if good_weather:\n",
    "        print(\"The weather is good!\")\n",
    "        if car_checked:\n",
    "            print (\"Your car has been checked!\")\n",
    "            if budget >= required_budget:\n",
    "                print(f\"You're ready for the road trip! You have ${budget}, which is enough.\")\n",
    "            else:\n",
    "                print(f\"You need more money for the trip. You only have ${budget}, but you need at least ${required_budget}.\")\n",
    "        else:\n",
    "            print(\"You need to get the car checked first.\")\n",
    "    else:\n",
    "        print(\"The weather isn't good for a road trip.\")\n",
    "else:\n",
    "    print(\"You need to fill up the tank first.\")\n"
   ]
  },
  {
   "cell_type": "code",
   "execution_count": 6,
   "metadata": {},
   "outputs": [
    {
     "name": "stdout",
     "output_type": "stream",
     "text": [
      "You are ready for the beach.\n"
     ]
    }
   ],
   "source": [
    "#3.7 Should we go to the beach\n",
    "\n",
    "def decide_beach_trip(weather, has_sunscreen, has_snacks):\n",
    "    if weather.lower() != \"sunny\":\n",
    "        print(\"It's not a good day for the beach.\")\n",
    "    elif not has_sunscreen:\n",
    "        print(\"You must buy sunscreen.\")\n",
    "    elif not has_snacks:\n",
    "        print(\"You must get snacks first.\")\n",
    "    else:\n",
    "        print(\"You are ready for the beach.\")\n",
    "\n",
    "weather = input(\"Enter the weather (sunny or not): \")\n",
    "has_sunscreen = input(\"Do you have sunscreen? (yes/no): \").lower() == \"yes\"\n",
    "has_snacks = input(\"Do you have enough snacks? (yes/no): \").lower() == \"yes\"\n",
    "\n",
    "decide_beach_trip(weather, has_sunscreen, has_snacks)\n"
   ]
  },
  {
   "cell_type": "code",
   "execution_count": 12,
   "metadata": {},
   "outputs": [
    {
     "name": "stdout",
     "output_type": "stream",
     "text": [
      "You are old Enough\n",
      "Your House is big enough\n",
      "You can have a pet!\n"
     ]
    }
   ],
   "source": [
    "#3.7 Should we get a pet\n",
    "\n",
    "above_18 = int(input(\"Enter your age:\"))\n",
    "big_house = int(input(\"How big is your house (sqft)\"))\n",
    "can_you_take_care = input(\"Are you responsible enough for a pet? (yes/no): \").lower() == \"yes\"\n",
    "\n",
    "def decide_pet(above_18, big_house, can_you_take_care):\n",
    "    if above_18 >= 18:\n",
    "        print(\"You are old Enough\")\n",
    "    else:\n",
    "        print(\"You are not old enough\")\n",
    "    if big_house >= 50:\n",
    "        print(\"Your House is big enough\")\n",
    "    else:\n",
    "        print(\"Buy a bigger house\")\n",
    "    if can_you_take_care:\n",
    "        print(\"You can have a pet!\")\n",
    "    else:\n",
    "        print(\"You are not ready for a pet.\")\n",
    "\n",
    "decide_pet(above_18, big_house, can_you_take_care)"
   ]
  },
  {
   "cell_type": "code",
   "execution_count": 13,
   "metadata": {},
   "outputs": [
    {
     "name": "stdout",
     "output_type": "stream",
     "text": [
      "You are ready for the marathon.\n"
     ]
    }
   ],
   "source": [
    "#3.7 Should we run a marathon\n",
    "\n",
    "weather = input(\"Enter the weather (clear or not): \")\n",
    "has_running_shoes = input(\"Do you have running shoes? (yes/no): \").lower() == \"yes\"\n",
    "practice_days = int(input(\"How many days have you practiced? \"))\n",
    "\n",
    "def decide_marathon_trip(weather, has_running_shoes, practice_days):\n",
    "    if weather.lower() != \"clear\":\n",
    "        print(\"It's not the right time for the marathon.\")\n",
    "    elif not has_running_shoes:\n",
    "        print(\"You need to buy running shoes first.\")\n",
    "    elif practice_days < 10:\n",
    "        print(\"You need to practice more.\")\n",
    "    else:\n",
    "        print(\"You are ready for the marathon.\")\n",
    "\n",
    "weather = input(\"Enter the weather (clear or not): \")\n",
    "has_running_shoes = input(\"Do you have running shoes? (yes/no): \").lower() == \"yes\"\n",
    "practice_days = int(input(\"How many days have you practiced? \"))\n",
    "\n",
    "decide_marathon_trip(weather, has_running_shoes, practice_days)\n"
   ]
  }
 ],
 "metadata": {
  "kernelspec": {
   "display_name": "Python 3",
   "language": "python",
   "name": "python3"
  },
  "language_info": {
   "codemirror_mode": {
    "name": "ipython",
    "version": 3
   },
   "file_extension": ".py",
   "mimetype": "text/x-python",
   "name": "python",
   "nbconvert_exporter": "python",
   "pygments_lexer": "ipython3",
   "version": "3.13.0"
  }
 },
 "nbformat": 4,
 "nbformat_minor": 2
}
