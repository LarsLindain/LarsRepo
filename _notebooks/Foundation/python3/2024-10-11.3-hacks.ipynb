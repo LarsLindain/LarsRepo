{
 "cells": [
  {
   "cell_type": "markdown",
   "metadata": {},
   "source": [
    "---\n",
    "layout: post\n",
    "title: 3.3 Hacks\n",
    "description: 3.3 hacks/homework\n",
    "toc: true\n",
    "type: hacks\n",
    "---"
   ]
  },
  {
   "cell_type": "code",
   "execution_count": 25,
   "metadata": {},
   "outputs": [
    {
     "name": "stdout",
     "output_type": "stream",
     "text": [
      "The total sum from 1 to 9 is: 45\n"
     ]
    }
   ],
   "source": [
    "#3.3: User enters N and asks for a number, take total sum and adds all numbers\n",
    "N = int(input(\"Enter a number N: \"))\n",
    "\n",
    "total_sum = 0\n",
    "\n",
    "for i in range(1, N + 1):\n",
    "    total_sum += i \n",
    "\n",
    "print(\"The total sum from 1 to\", N, \"is:\", total_sum)"
   ]
  },
  {
   "cell_type": "code",
   "execution_count": null,
   "metadata": {},
   "outputs": [
    {
     "name": "stdout",
     "output_type": "stream",
     "text": [
      "32.0\n"
     ]
    }
   ],
   "source": [
    "#3.3: funtion using basic arithmetic operations \n",
    "\n",
    "def calculate_to_32():\n",
    "    result = (8 * 4) + (16 / 4) - 4\n",
    "    return result\n",
    "\n",
    "print(calculate_to_32())\n"
   ]
  },
  {
   "cell_type": "code",
   "execution_count": null,
   "metadata": {},
   "outputs": [
    {
     "name": "stdout",
     "output_type": "stream",
     "text": [
      "Mean = 17.0\n"
     ]
    }
   ],
   "source": [
    "#3.3 Main Hack\n",
    "\n",
    "def compute_arithmetic_mean():\n",
    "    numbers = [1, 31, 9, 27]\n",
    "    \n",
    "    if len(numbers) == 0:\n",
    "        return 0 \n",
    "    \n",
    "    mean = sum(numbers) / len(numbers)\n",
    "    return mean\n",
    "\n",
    "mean_value = compute_arithmetic_mean()\n",
    "print(f\"Mean = {mean_value}\")\n"
   ]
  },
  {
   "cell_type": "code",
   "execution_count": 23,
   "metadata": {},
   "outputs": [
    {
     "name": "stdout",
     "output_type": "stream",
     "text": [
      "Collatz sequence: [21, 64, 32, 16, 8, 4, 2, 1]\n"
     ]
    }
   ],
   "source": [
    "#3.3 Main Hack\n",
    "\n",
    "def check_number(number):\n",
    "    if number <= 0:\n",
    "        print(\"Enter positive integer.\")\n",
    "        return\n",
    "    \n",
    "    sequence = [number]  \n",
    "\n",
    "    while number != 1:\n",
    "        if number % 2 == 0:\n",
    "            number = number // 2  \n",
    "        else:\n",
    "            number = 3 * number + 1 \n",
    "        sequence.append(number) \n",
    "\n",
    "    print(\"Collatz sequence:\", sequence)\n",
    "\n",
    "check_number(21)  \n"
   ]
  }
 ],
 "metadata": {
  "kernelspec": {
   "display_name": "Python 3",
   "language": "python",
   "name": "python3"
  },
  "language_info": {
   "codemirror_mode": {
    "name": "ipython",
    "version": 3
   },
   "file_extension": ".py",
   "mimetype": "text/x-python",
   "name": "python",
   "nbconvert_exporter": "python",
   "pygments_lexer": "ipython3",
   "version": "3.12.5"
  }
 },
 "nbformat": 4,
 "nbformat_minor": 2
}
