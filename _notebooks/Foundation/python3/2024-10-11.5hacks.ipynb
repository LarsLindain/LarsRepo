{
 "cells": [
  {
   "cell_type": "markdown",
   "metadata": {},
   "source": [
    "---\n",
    "layout: post\n",
    "title: 3.5 Hacks\n",
    "description: 3.5 hacks/homework\n",
    "toc: true\n",
    "type: hacks\n",
    "---"
   ]
  },
  {
   "cell_type": "code",
   "execution_count": 1,
   "metadata": {},
   "outputs": [
    {
     "name": "stdout",
     "output_type": "stream",
     "text": [
      "The number is non-negative.\n"
     ]
    }
   ],
   "source": [
    "#3.5: evaluates if number is less than 0\n",
    "\n",
    "def check_number():\n",
    "    try:\n",
    "        number = float(input(\"Please enter a number: \"))\n",
    "        if number < 0:\n",
    "            print(\"The number is negative.\")\n",
    "        else:\n",
    "            print(\"The number is non-negative.\")\n",
    "    except ValueError:\n",
    "        print(\"Try again.\")\n",
    "\n",
    "check_number()"
   ]
  },
  {
   "cell_type": "code",
   "execution_count": 2,
   "metadata": {},
   "outputs": [
    {
     "name": "stdout",
     "output_type": "stream",
     "text": [
      "They passed both subjects.\n"
     ]
    }
   ],
   "source": [
    "#3.5: Check for double score\n",
    "\n",
    "def check_scores(score1, score2):\n",
    "    if score1 >= 75 and score2 >= 75:\n",
    "        print(\"They passed both subjects.\")\n",
    "    else:\n",
    "        print(\"They did not pass both subjects.\")\n",
    "\n",
    "\n",
    "score1 = float(input(\"Enter the first score: \"))\n",
    "score2 = float(input(\"Enter the second score: \"))\n",
    "\n",
    "check_scores(score1, score2)"
   ]
  }
 ],
 "metadata": {
  "kernelspec": {
   "display_name": "Python 3",
   "language": "python",
   "name": "python3"
  },
  "language_info": {
   "codemirror_mode": {
    "name": "ipython",
    "version": 3
   },
   "file_extension": ".py",
   "mimetype": "text/x-python",
   "name": "python",
   "nbconvert_exporter": "python",
   "pygments_lexer": "ipython3",
   "version": "3.12.5"
  }
 },
 "nbformat": 4,
 "nbformat_minor": 2
}
