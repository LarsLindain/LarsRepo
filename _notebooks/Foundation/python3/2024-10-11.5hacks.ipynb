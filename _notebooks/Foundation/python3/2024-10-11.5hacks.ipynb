{
 "cells": [
  {
   "cell_type": "markdown",
   "metadata": {},
   "source": [
    "---\n",
    "layout: post\n",
    "title: 3.5 Hacks\n",
    "description: 3.5 hacks/homework\n",
    "toc: true\n",
    "type: hacks\n",
    "---"
   ]
  },
  {
   "cell_type": "code",
   "execution_count": 1,
   "metadata": {},
   "outputs": [
    {
     "name": "stdout",
     "output_type": "stream",
     "text": [
      "The number is non-negative.\n"
     ]
    }
   ],
   "source": [
    "#3.5: evaluates if number is less than 0\n",
    "\n",
    "def check_number():\n",
    "    try:\n",
    "        number = float(input(\"Please enter a number: \"))\n",
    "        if number < 0:\n",
    "            print(\"The number is negative.\")\n",
    "        else:\n",
    "            print(\"The number is non-negative.\")\n",
    "    except ValueError:\n",
    "        print(\"Try again.\")\n",
    "\n",
    "check_number()"
   ]
  },
  {
   "cell_type": "code",
   "execution_count": 2,
   "metadata": {},
   "outputs": [
    {
     "name": "stdout",
     "output_type": "stream",
     "text": [
      "They passed both subjects.\n"
     ]
    }
   ],
   "source": [
    "#3.5: Check for double score\n",
    "\n",
    "def check_scores(score1, score2):\n",
    "    if score1 >= 75 and score2 >= 75:\n",
    "        print(\"They passed both subjects.\")\n",
    "    else:\n",
    "        print(\"They did not pass both subjects.\")\n",
    "\n",
    "\n",
    "score1 = float(input(\"Enter the first score: \"))\n",
    "score2 = float(input(\"Enter the second score: \"))\n",
    "\n",
    "check_scores(score1, score2)"
   ]
  },
  {
   "cell_type": "code",
   "execution_count": 5,
   "metadata": {},
   "outputs": [
    {
     "name": "stdout",
     "output_type": "stream",
     "text": [
      "On my life a is a Vowel.\n",
      "n is not a vowel bozo.\n",
      "d is not a vowel bozo.\n",
      "r is not a vowel bozo.\n",
      "On my life e is a Vowel.\n"
     ]
    }
   ],
   "source": [
    "#3.5 Vowel Check\n",
    "\n",
    "def check_vowel(char):\n",
    "    char = char.lower()\n",
    "    \n",
    "    if char in 'aeiou':\n",
    "        print(f\"On my life {char} is a Vowel.\")\n",
    "    else:\n",
    "        print(f\"{char} is not a vowel bozo.\")\n",
    "\n",
    "check_vowel('A') \n",
    "check_vowel('N')  \n",
    "check_vowel('D')\n",
    "check_vowel('R')\n",
    "check_vowel('E')\n"
   ]
  },
  {
   "cell_type": "code",
   "execution_count": 18,
   "metadata": {},
   "outputs": [
    {
     "name": "stdout",
     "output_type": "stream",
     "text": [
      "44, thats even big bro.\n"
     ]
    }
   ],
   "source": [
    "#3.5 Check for even or odd\n",
    "\n",
    "number = int(input(\"Enter a number N: \"))\n",
    "\n",
    "def check_even_odd(number):\n",
    "    if not isinstance(number, int):\n",
    "        print(\"Pick a number:\")\n",
    "        return\n",
    "\n",
    "    if number % 2 == 0 and number >= 0:\n",
    "        print(f\"{number}, thats even big bro.\")\n",
    "    elif number % 2 != 0 and number >= 0:\n",
    "        print(f\"{number}, thats odd big bro.\")\n",
    "    else:\n",
    "        print(f\"{number}, is negative.\")\n",
    "\n",
    "check_even_odd(number)\n"
   ]
  }
 ],
 "metadata": {
  "kernelspec": {
   "display_name": "Python 3",
   "language": "python",
   "name": "python3"
  },
  "language_info": {
   "codemirror_mode": {
    "name": "ipython",
    "version": 3
   },
   "file_extension": ".py",
   "mimetype": "text/x-python",
   "name": "python",
   "nbconvert_exporter": "python",
   "pygments_lexer": "ipython3",
   "version": "3.12.5"
  }
 },
 "nbformat": 4,
 "nbformat_minor": 2
}
